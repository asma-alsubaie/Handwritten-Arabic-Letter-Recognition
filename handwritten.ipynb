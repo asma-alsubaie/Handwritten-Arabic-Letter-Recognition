{
 "cells": [
  {
   "cell_type": "code",
   "execution_count": 1,
   "id": "0d203e60",
   "metadata": {},
   "outputs": [
    {
     "name": "stdout",
     "output_type": "stream",
     "text": [
      "Init Plugin\n",
      "Init Graph Optimizer\n",
      "Init Kernel\n"
     ]
    }
   ],
   "source": [
    "# Remove warning messages\n",
    "import warnings\n",
    "warnings.filterwarnings('ignore')\n",
    "\n",
    "import pandas as pd\n",
    "import numpy as np\n",
    "import random\n",
    "\n",
    "# navigation and read files\n",
    "import glob\n",
    "import os\n",
    "\n",
    "# Read HDF5 binary data format: convenient for large data storage\n",
    "import h5py\n",
    "\n",
    "# Read and display images\n",
    "import matplotlib.pyplot as plt\n",
    "#import imageio # Imageio is a Python library that provides an easy interface to read and write a wide range of image data,\n",
    "#import cv2\n",
    "from tensorflow.keras.preprocessing.image import load_img\n",
    "from tensorflow.keras.preprocessing.image import img_to_array\n",
    "#from tensorflow import keras\n",
    "\n",
    "# DL dependancies\n",
    "from sklearn.model_selection import train_test_split\n",
    "from sklearn.utils import shuffle\n",
    "from tensorflow.keras.models import Sequential\n",
    "from tensorflow.keras.layers import Dense, Flatten, Conv2D, MaxPooling2D, Dropout, LeakyReLU,GlobalMaxPooling2D , BatchNormalization\n",
    "from tensorflow.keras.metrics import top_k_categorical_accuracy,categorical_accuracy\n",
    "from tensorflow.keras.callbacks import ModelCheckpoint,ReduceLROnPlateau,EarlyStopping\n"
   ]
  },
  {
   "cell_type": "code",
   "execution_count": 2,
   "id": "e7ff41ec",
   "metadata": {},
   "outputs": [
    {
     "name": "stdout",
     "output_type": "stream",
     "text": [
      "Num GPUs Available:  1\n"
     ]
    }
   ],
   "source": [
    "import tensorflow as tf\n",
    "print(\"Num GPUs Available: \", len(tf.config.experimental.list_physical_devices('GPU')))"
   ]
  },
  {
   "cell_type": "code",
   "execution_count": 3,
   "id": "2d8c6f53",
   "metadata": {},
   "outputs": [],
   "source": [
    "X_train= pd.read_csv('/Users/fatimahgh/desktop/Arabic_Alphabet/X_train.csv')\n",
    "X_test= pd.read_csv('/Users/fatimahgh/desktop/Arabic_Alphabet/X_test.csv')\n",
    "y_train= pd.read_csv('/Users/fatimahgh/desktop/Arabic_Alphabet/y_train.csv')\n",
    "y_test= pd.read_csv('/Users/fatimahgh/desktop/Arabic_Alphabet/y_test.csv')"
   ]
  },
  {
   "cell_type": "code",
   "execution_count": 4,
   "id": "fd550c45",
   "metadata": {},
   "outputs": [
    {
     "name": "stdout",
     "output_type": "stream",
     "text": [
      "(37933, 1024)\n",
      "(37933, 1)\n",
      "+++++++++++++++++++++++++\n",
      "(9501, 1024)\n",
      "(9501, 1)\n"
     ]
    }
   ],
   "source": [
    "print(X_train.shape) # x_train is the training data set.\n",
    "print(y_train.shape) # is the set of labels to all the data in x_train.\n",
    "print(\"+++++++++++++++++++++++++\")\n",
    "print(X_test.shape) # is the test data set.\n",
    "print(y_test.shape) # is the set of labels to all the data in x_test"
   ]
  },
  {
   "cell_type": "code",
   "execution_count": null,
   "id": "c4aec3de",
   "metadata": {},
   "outputs": [],
   "source": [
    "X_train.head()"
   ]
  },
  {
   "cell_type": "code",
   "execution_count": null,
   "id": "e5afe382",
   "metadata": {},
   "outputs": [],
   "source": [
    "y_train.head()"
   ]
  },
  {
   "cell_type": "code",
   "execution_count": null,
   "id": "af14c496",
   "metadata": {},
   "outputs": [],
   "source": [
    "y_test.columns"
   ]
  },
  {
   "cell_type": "code",
   "execution_count": null,
   "id": "e49678e1",
   "metadata": {},
   "outputs": [],
   "source": [
    "y_train.iloc[37932]"
   ]
  },
  {
   "cell_type": "code",
   "execution_count": null,
   "id": "0c2560eb",
   "metadata": {},
   "outputs": [],
   "source": [
    "y_train.value_counts()"
   ]
  },
  {
   "cell_type": "code",
   "execution_count": 5,
   "id": "3075c5dd",
   "metadata": {},
   "outputs": [],
   "source": [
    "#convert the values to Float, \n",
    "X_train=X_train.astype('float32')\n",
    "X_test=X_test.astype('float32')\n",
    "y_train=y_train.astype('int32')-1\n",
    "y_test=y_test.astype('int32')-1\n",
    "\n",
    "# Then normalize values (From 0 to 1)\n",
    "X_train/=255\n",
    "X_test/=255"
   ]
  },
  {
   "cell_type": "code",
   "execution_count": 8,
   "id": "19efc755",
   "metadata": {},
   "outputs": [],
   "source": [
    "#preparing the data for CNN\n",
    "#reshape the input to \"1 chanal for binary images\n",
    "X_train=X_train.values.reshape(X_train.shape[0],32,32,1)\n",
    "X_test=X_test.values.reshape(X_test.shape[0],32,32,1)"
   ]
  },
  {
   "cell_type": "code",
   "execution_count": 9,
   "id": "ffd56c65",
   "metadata": {},
   "outputs": [],
   "source": [
    "from tensorflow.keras.utils import to_categorical\n",
    "y_test = to_categorical(y_test,29)\n",
    "y_train = to_categorical(y_train,29)"
   ]
  },
  {
   "cell_type": "code",
   "execution_count": 10,
   "id": "14be5f76",
   "metadata": {},
   "outputs": [
    {
     "name": "stdout",
     "output_type": "stream",
     "text": [
      "(37933, 32, 32, 1)\n",
      "(37933, 29)\n",
      "+++++++++++++++++++++++++\n",
      "(9501, 32, 32, 1)\n",
      "(9501, 29)\n"
     ]
    }
   ],
   "source": [
    "print(X_train.shape) # x_train is the training data set.\n",
    "print(y_train.shape) # is the set of labels to all the data in x_train.\n",
    "print(\"+++++++++++++++++++++++++\")\n",
    "print(X_test.shape) # is the test data set.\n",
    "print(y_test.shape)"
   ]
  },
  {
   "cell_type": "code",
   "execution_count": 25,
   "id": "ea0c2e1e",
   "metadata": {},
   "outputs": [],
   "source": [
    "from keras.models import Sequential\n",
    "from keras.layers import Conv2D, MaxPooling2D, BatchNormalization, Dropout, Dense\n",
    "\n",
    "def create_model(optimizer='adam', kernel_initializer='uniform', activation='relu'):\n",
    "  # create model\n",
    "  model = Sequential()\n",
    "    \n",
    "  model.add(Conv2D(filters=16, kernel_size=3, padding='same', strides =(1,1) ,input_shape=(32, 32, 1), kernel_initializer=kernel_initializer, activation=activation))\n",
    "  model.add(BatchNormalization())\n",
    "  model.add(MaxPooling2D(pool_size=2))\n",
    "  \n",
    "  model.add(Conv2D(filters=32, kernel_size=3, padding='same' , strides =(1,1), kernel_initializer=kernel_initializer, activation=activation))\n",
    "  model.add(BatchNormalization())\n",
    "  model.add(MaxPooling2D(pool_size=2))\n",
    "  \n",
    "  model.add(Conv2D(filters=128, kernel_size=3, padding='same', strides =(1,1), kernel_initializer=kernel_initializer, activation=activation))\n",
    "  model.add(BatchNormalization())\n",
    "  model.add(MaxPooling2D(pool_size=2))\n",
    "\n",
    "  model.add(Conv2D(filters=256, kernel_size=3, padding='same', strides =(1,1), kernel_initializer=kernel_initializer, activation=activation))\n",
    "  model.add(BatchNormalization())\n",
    "  model.add(MaxPooling2D(pool_size=2))\n",
    "\n",
    "  # flatten output of conv\n",
    "  model.add(Flatten())\n",
    "  model.add(Dense(4096, activation='relu'))\n",
    "  model.add(Dropout(0.5))\n",
    "#   model.add(BatchNormalization())\n",
    "\n",
    "\n",
    "  model.add(Dense(1024, activation='relu'))\n",
    "  model.add(Dropout(0.5))\n",
    "#   model.add(BatchNormalization())\n",
    "\n",
    "\n",
    "  model.add(Dense(512, activation='relu'))\n",
    "  model.add(Dropout(0.5))\n",
    "#   model.add(BatchNormalization())\n",
    "  \n",
    "  #Fully connected final layer \n",
    "  model.add(Dense(29, activation='softmax'))\n",
    "\n",
    "  # Compile model\n",
    "  model.compile(loss='categorical_crossentropy', metrics=['accuracy'], optimizer=optimizer)\n",
    "  return model"
   ]
  },
  {
   "cell_type": "code",
   "execution_count": 26,
   "id": "72041a61",
   "metadata": {},
   "outputs": [
    {
     "name": "stdout",
     "output_type": "stream",
     "text": [
      "Model: \"sequential_4\"\n",
      "_________________________________________________________________\n",
      "Layer (type)                 Output Shape              Param #   \n",
      "=================================================================\n",
      "conv2d_14 (Conv2D)           (None, 32, 32, 16)        160       \n",
      "_________________________________________________________________\n",
      "batch_normalization_23 (Batc (None, 32, 32, 16)        64        \n",
      "_________________________________________________________________\n",
      "max_pooling2d_14 (MaxPooling (None, 16, 16, 16)        0         \n",
      "_________________________________________________________________\n",
      "conv2d_15 (Conv2D)           (None, 16, 16, 32)        4640      \n",
      "_________________________________________________________________\n",
      "batch_normalization_24 (Batc (None, 16, 16, 32)        128       \n",
      "_________________________________________________________________\n",
      "max_pooling2d_15 (MaxPooling (None, 8, 8, 32)          0         \n",
      "_________________________________________________________________\n",
      "conv2d_16 (Conv2D)           (None, 8, 8, 128)         36992     \n",
      "_________________________________________________________________\n",
      "batch_normalization_25 (Batc (None, 8, 8, 128)         512       \n",
      "_________________________________________________________________\n",
      "max_pooling2d_16 (MaxPooling (None, 4, 4, 128)         0         \n",
      "_________________________________________________________________\n",
      "conv2d_17 (Conv2D)           (None, 4, 4, 256)         295168    \n",
      "_________________________________________________________________\n",
      "batch_normalization_26 (Batc (None, 4, 4, 256)         1024      \n",
      "_________________________________________________________________\n",
      "max_pooling2d_17 (MaxPooling (None, 2, 2, 256)         0         \n",
      "_________________________________________________________________\n",
      "module_wrapper_4 (ModuleWrap (None, 1024)              0         \n",
      "_________________________________________________________________\n",
      "dense_16 (Dense)             (None, 4096)              4198400   \n",
      "_________________________________________________________________\n",
      "dropout_12 (Dropout)         (None, 4096)              0         \n",
      "_________________________________________________________________\n",
      "dense_17 (Dense)             (None, 1024)              4195328   \n",
      "_________________________________________________________________\n",
      "dropout_13 (Dropout)         (None, 1024)              0         \n",
      "_________________________________________________________________\n",
      "dense_18 (Dense)             (None, 512)               524800    \n",
      "_________________________________________________________________\n",
      "dropout_14 (Dropout)         (None, 512)               0         \n",
      "_________________________________________________________________\n",
      "dense_19 (Dense)             (None, 29)                14877     \n",
      "=================================================================\n",
      "Total params: 9,272,093\n",
      "Trainable params: 9,271,229\n",
      "Non-trainable params: 864\n",
      "_________________________________________________________________\n"
     ]
    }
   ],
   "source": [
    "model = create_model()\n",
    "model.summary()"
   ]
  },
  {
   "cell_type": "code",
   "execution_count": 29,
   "id": "7dccf1a1",
   "metadata": {},
   "outputs": [
    {
     "name": "stdout",
     "output_type": "stream",
     "text": [
      "Epoch 1/50\n",
      "1186/1186 [==============================] - 25s 21ms/step - loss: 0.2345 - accuracy: 0.9365\n",
      "Epoch 2/50\n",
      "1186/1186 [==============================] - 24s 21ms/step - loss: 0.2411 - accuracy: 0.9370\n",
      "Epoch 3/50\n",
      "1186/1186 [==============================] - 24s 21ms/step - loss: 0.2571 - accuracy: 0.9326\n",
      "Epoch 4/50\n",
      "1186/1186 [==============================] - 25s 21ms/step - loss: 0.2371 - accuracy: 0.9367\n",
      "Epoch 5/50\n",
      "1186/1186 [==============================] - 24s 21ms/step - loss: 0.2249 - accuracy: 0.9402\n",
      "Epoch 6/50\n",
      "1186/1186 [==============================] - 25s 21ms/step - loss: 0.2212 - accuracy: 0.9414\n",
      "Epoch 7/50\n",
      "1186/1186 [==============================] - 25s 21ms/step - loss: 0.2272 - accuracy: 0.9412\n",
      "Epoch 8/50\n",
      "1186/1186 [==============================] - 25s 21ms/step - loss: 0.2345 - accuracy: 0.9393\n",
      "Epoch 9/50\n",
      "1186/1186 [==============================] - 25s 21ms/step - loss: 0.2098 - accuracy: 0.9437\n",
      "Epoch 10/50\n",
      "1186/1186 [==============================] - 25s 21ms/step - loss: 0.2341 - accuracy: 0.9426\n",
      "Epoch 11/50\n",
      "1186/1186 [==============================] - 25s 21ms/step - loss: 0.2035 - accuracy: 0.9472\n",
      "Epoch 12/50\n",
      "1186/1186 [==============================] - 25s 21ms/step - loss: 0.2211 - accuracy: 0.9438\n",
      "Epoch 13/50\n",
      "1186/1186 [==============================] - 25s 21ms/step - loss: 0.2101 - accuracy: 0.9472\n",
      "Epoch 14/50\n",
      "1186/1186 [==============================] - 25s 21ms/step - loss: 0.2103 - accuracy: 0.9474\n",
      "Epoch 15/50\n",
      "1186/1186 [==============================] - 25s 21ms/step - loss: 0.2164 - accuracy: 0.9443\n",
      "Epoch 16/50\n",
      "1186/1186 [==============================] - 25s 21ms/step - loss: 0.1974 - accuracy: 0.9491\n",
      "Epoch 17/50\n",
      "1186/1186 [==============================] - 25s 21ms/step - loss: 0.2125 - accuracy: 0.9483\n",
      "Epoch 18/50\n",
      "1186/1186 [==============================] - 25s 21ms/step - loss: 0.2109 - accuracy: 0.9469\n",
      "Epoch 19/50\n",
      "1186/1186 [==============================] - 25s 21ms/step - loss: 0.1957 - accuracy: 0.9502\n",
      "Epoch 20/50\n",
      "1186/1186 [==============================] - 25s 21ms/step - loss: 0.2207 - accuracy: 0.9475\n",
      "Epoch 21/50\n",
      "1186/1186 [==============================] - 25s 21ms/step - loss: 0.2083 - accuracy: 0.9500\n",
      "Epoch 22/50\n",
      "1186/1186 [==============================] - 25s 21ms/step - loss: 0.2148 - accuracy: 0.9487\n",
      "Epoch 23/50\n",
      "1186/1186 [==============================] - 25s 21ms/step - loss: 0.1944 - accuracy: 0.9529\n",
      "Epoch 24/50\n",
      "1186/1186 [==============================] - 25s 21ms/step - loss: 0.1953 - accuracy: 0.9514\n",
      "Epoch 25/50\n",
      "1186/1186 [==============================] - 25s 21ms/step - loss: 0.2165 - accuracy: 0.9481\n",
      "Epoch 26/50\n",
      "1186/1186 [==============================] - 25s 21ms/step - loss: 0.2024 - accuracy: 0.9514\n",
      "Epoch 27/50\n",
      "1186/1186 [==============================] - 25s 21ms/step - loss: 0.2073 - accuracy: 0.9512\n",
      "Epoch 28/50\n",
      "1186/1186 [==============================] - 25s 21ms/step - loss: 0.2175 - accuracy: 0.9484\n",
      "Epoch 29/50\n",
      "1186/1186 [==============================] - 25s 21ms/step - loss: 0.2087 - accuracy: 0.9500\n",
      "Epoch 30/50\n",
      "1186/1186 [==============================] - 25s 21ms/step - loss: 0.1970 - accuracy: 0.9553\n",
      "Epoch 31/50\n",
      "1186/1186 [==============================] - 25s 21ms/step - loss: 0.2215 - accuracy: 0.9498\n",
      "Epoch 32/50\n",
      "1186/1186 [==============================] - 25s 21ms/step - loss: 0.1778 - accuracy: 0.9566\n",
      "Epoch 33/50\n",
      "1186/1186 [==============================] - 25s 21ms/step - loss: 0.2160 - accuracy: 0.9498\n",
      "Epoch 34/50\n",
      "1186/1186 [==============================] - 25s 21ms/step - loss: 0.1952 - accuracy: 0.9530\n",
      "Epoch 35/50\n",
      "1186/1186 [==============================] - 25s 21ms/step - loss: 0.2007 - accuracy: 0.9537\n",
      "Epoch 36/50\n",
      "1186/1186 [==============================] - 25s 21ms/step - loss: 0.1952 - accuracy: 0.9538\n",
      "Epoch 37/50\n",
      "1186/1186 [==============================] - 25s 21ms/step - loss: 0.2194 - accuracy: 0.9505\n",
      "Epoch 38/50\n",
      "1186/1186 [==============================] - 25s 21ms/step - loss: 0.1872 - accuracy: 0.9597\n",
      "Epoch 39/50\n",
      "1186/1186 [==============================] - 25s 21ms/step - loss: 0.1968 - accuracy: 0.9568\n",
      "Epoch 40/50\n",
      "1186/1186 [==============================] - 25s 21ms/step - loss: 0.1934 - accuracy: 0.9552\n",
      "Epoch 41/50\n",
      "1186/1186 [==============================] - 25s 21ms/step - loss: 0.2004 - accuracy: 0.9547\n",
      "Epoch 42/50\n",
      "1186/1186 [==============================] - 25s 21ms/step - loss: 0.2072 - accuracy: 0.9546\n",
      "Epoch 43/50\n",
      "1186/1186 [==============================] - 25s 21ms/step - loss: 0.1868 - accuracy: 0.9577\n",
      "Epoch 44/50\n",
      "1186/1186 [==============================] - 25s 21ms/step - loss: 0.2003 - accuracy: 0.9565\n",
      "Epoch 45/50\n",
      "1186/1186 [==============================] - 25s 21ms/step - loss: 0.1833 - accuracy: 0.9596\n",
      "Epoch 46/50\n",
      "1186/1186 [==============================] - 25s 21ms/step - loss: 0.2062 - accuracy: 0.9550\n",
      "Epoch 47/50\n",
      "1186/1186 [==============================] - 25s 21ms/step - loss: 0.2036 - accuracy: 0.9550\n",
      "Epoch 48/50\n",
      "1186/1186 [==============================] - 25s 21ms/step - loss: 0.1968 - accuracy: 0.9562\n",
      "Epoch 49/50\n",
      "1186/1186 [==============================] - 25s 21ms/step - loss: 0.2079 - accuracy: 0.9552\n",
      "Epoch 50/50\n",
      "1186/1186 [==============================] - 25s 21ms/step - loss: 0.2016 - accuracy: 0.9572\n"
     ]
    }
   ],
   "source": [
    "# Training the model for # epochs\n",
    "history = model.fit(X_train,y_train,epochs=50,verbose=1)"
   ]
  },
  {
   "cell_type": "code",
   "execution_count": 30,
   "id": "100b1b36",
   "metadata": {},
   "outputs": [
    {
     "name": "stdout",
     "output_type": "stream",
     "text": [
      "297/297 [==============================] - 2s 7ms/step - loss: 0.9881 - accuracy: 0.8723\n",
      "Test Accuracy: 87.23292350769043 %\n",
      "Test Loss: 0.9880748987197876\n"
     ]
    }
   ],
   "source": [
    "# Final evaluation of the model\n",
    "metrics = model.evaluate(X_test, y_test, verbose=1)\n",
    "print(\"Test Accuracy: {} %\".format(metrics[1]*100))\n",
    "print(\"Test Loss: {}\".format(metrics[0]))"
   ]
  },
  {
   "cell_type": "code",
   "execution_count": null,
   "id": "ee9c8b30",
   "metadata": {},
   "outputs": [],
   "source": []
  }
 ],
 "metadata": {
  "kernelspec": {
   "display_name": "Python 3.9 (tensorflow)",
   "language": "python",
   "name": "tensorflow"
  },
  "language_info": {
   "codemirror_mode": {
    "name": "ipython",
    "version": 3
   },
   "file_extension": ".py",
   "mimetype": "text/x-python",
   "name": "python",
   "nbconvert_exporter": "python",
   "pygments_lexer": "ipython3",
   "version": "3.9.7"
  }
 },
 "nbformat": 4,
 "nbformat_minor": 5
}
